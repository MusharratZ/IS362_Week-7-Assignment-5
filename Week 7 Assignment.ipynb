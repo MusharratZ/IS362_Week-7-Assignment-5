{
 "cells": [
  {
   "cell_type": "code",
   "execution_count": 10,
   "id": "486fc4cb",
   "metadata": {},
   "outputs": [
    {
     "name": "stdout",
     "output_type": "stream",
     "text": [
      "                     Jane  John  Doe  Ken  Tim\n",
      "Movie                                         \n",
      "Dune                  4.0   5.0    4  NaN  3.0\n",
      "Spider-Man: NWH       5.0   NaN    5  5.0  5.0\n",
      "Shang-Chi             4.0   4.0    3  4.0  4.0\n",
      "The French Dispatch   3.0   4.0    4  NaN  NaN\n",
      "No Time to Die        5.0   5.0    5  5.0  4.0\n",
      "The Eternals          NaN   NaN    2  3.0  NaN\n"
     ]
    }
   ],
   "source": [
    "import pandas as pd\n",
    "\n",
    "# Loading the csv file\n",
    "df = pd.read_csv(\"movie_ratings.csv\")\n",
    "\n",
    "#Set Movie column as index\n",
    "df.set_index(\"Movie\", inplace=True)\n",
    "\n",
    "# Print the data\n",
    "print(df)\n"
   ]
  },
  {
   "cell_type": "code",
   "execution_count": 11,
   "id": "402f6ce6",
   "metadata": {},
   "outputs": [
    {
     "name": "stdout",
     "output_type": "stream",
     "text": [
      "The average Ratings for each User is: \n",
      "Jane    4.200000\n",
      "John    4.500000\n",
      "Doe     3.833333\n",
      "Ken     4.250000\n",
      "Tim     4.000000\n",
      "dtype: float64\n"
     ]
    }
   ],
   "source": [
    "# Show the average ratings of each user\n",
    "average_ratings = df.mean(axis=0, skipna=True)\n",
    "print(\"The average Ratings for each User is: \")\n",
    "print(average_ratings)"
   ]
  },
  {
   "cell_type": "code",
   "execution_count": 13,
   "id": "146e57b3",
   "metadata": {},
   "outputs": [
    {
     "name": "stdout",
     "output_type": "stream",
     "text": [
      "Normalized Ratings: \n",
      "                     Jane  John       Doe  Ken  Tim\n",
      "Movie                                              \n",
      "Dune                  0.5   1.0  0.666667  NaN  0.0\n",
      "Spider-Man: NWH       1.0   NaN  1.000000  1.0  1.0\n",
      "Shang-Chi             0.5   0.0  0.333333  0.5  0.5\n",
      "The French Dispatch   0.0   0.0  0.666667  NaN  NaN\n",
      "No Time to Die        1.0   1.0  1.000000  1.0  0.5\n",
      "The Eternals          NaN   NaN  0.000000  0.0  NaN\n"
     ]
    }
   ],
   "source": [
    "# Panda dataframe with normalized ratings\n",
    "normalized_ratings = (df -df.min()) / (df.max() - df.min())\n",
    "print(\"Normalized Ratings: \")\n",
    "print(normalized_ratings)"
   ]
  },
  {
   "cell_type": "code",
   "execution_count": 14,
   "id": "b52292cd",
   "metadata": {},
   "outputs": [
    {
     "name": "stdout",
     "output_type": "stream",
     "text": [
      "The Conclusion is: \n",
      "\n",
      "Using normalized ratings provides a more fair comparison between the users and the movies.\n",
      "Advantages:\n",
      "- It helps remove biasness introduced by different users having different rating scales.\n",
      "- It provides a standardized way to compare movies and users.\n",
      "Disadvantages:\n",
      "- Some users may be so lenient or strict in their ratings thus leading to loss of individuals preference.\n",
      "- Extreme ratings may not accurately represent the user's opinion.\n",
      "\n"
     ]
    }
   ],
   "source": [
    "# conclusion \n",
    "normalized_conclusion = '''\n",
    "Using normalized ratings provides a more fair comparison between the users and the movies.\n",
    "Advantages:\n",
    "- It helps remove biasness introduced by different users having different rating scales.\n",
    "- It provides a standardized way to compare movies and users.\n",
    "Disadvantages:\n",
    "- Some users may be so lenient or strict in their ratings thus leading to loss of individuals preference.\n",
    "- Extreme ratings may not accurately represent the user's opinion.\n",
    "'''\n",
    "\n",
    "print(\"The Conclusion is: \")\n",
    "print(normalized_conclusion)"
   ]
  },
  {
   "cell_type": "code",
   "execution_count": 15,
   "id": "4e728b48",
   "metadata": {},
   "outputs": [
    {
     "name": "stdout",
     "output_type": "stream",
     "text": [
      "Standardized Ratings are as follows: \n",
      "                         Jane      John       Doe       Ken       Tim\n",
      "Movie                                                                \n",
      "Dune                -0.239046  0.866025  0.142566       NaN -1.224745\n",
      "Spider-Man: NWH      0.956183       NaN  0.997965  0.783349  1.224745\n",
      "Shang-Chi           -0.239046 -0.866025 -0.712832 -0.261116  0.000000\n",
      "The French Dispatch -1.434274 -0.866025  0.142566       NaN       NaN\n",
      "No Time to Die       0.956183  0.866025  0.997965  0.783349  0.000000\n",
      "The Eternals              NaN       NaN -1.568231 -1.305582       NaN\n"
     ]
    }
   ],
   "source": [
    "# Standardized Ratings for each user\n",
    "standardized_ratings = (df -df.mean()) / df.std()\n",
    "print(\"Standardized Ratings are as follows: \")\n",
    "print(standardized_ratings)"
   ]
  },
  {
   "cell_type": "code",
   "execution_count": null,
   "id": "09b8d5b9",
   "metadata": {},
   "outputs": [],
   "source": []
  }
 ],
 "metadata": {
  "kernelspec": {
   "display_name": "Python 3 (ipykernel)",
   "language": "python",
   "name": "python3"
  },
  "language_info": {
   "codemirror_mode": {
    "name": "ipython",
    "version": 3
   },
   "file_extension": ".py",
   "mimetype": "text/x-python",
   "name": "python",
   "nbconvert_exporter": "python",
   "pygments_lexer": "ipython3",
   "version": "3.11.8"
  }
 },
 "nbformat": 4,
 "nbformat_minor": 5
}
